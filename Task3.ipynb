{
 "cells": [
  {
   "cell_type": "code",
   "execution_count": 3,
   "metadata": {},
   "outputs": [],
   "source": [
    "import pandas as pd\n",
    "import numpy as np"
   ]
  },
  {
   "cell_type": "code",
   "execution_count": 10,
   "metadata": {},
   "outputs": [
    {
     "name": "stdout",
     "output_type": "stream",
     "text": [
      "  a,b,c,d,message\n",
      "0   1,2,3,4,hello\n",
      "1   5,6,7,8,world\n",
      "2  9,10,11,12,foo\n"
     ]
    }
   ],
   "source": [
    "df=pd.read_csv('E:/LEARN/Summer-Holiday/data/temp.csv',sep=',')\n",
    "print(df)"
   ]
  },
  {
   "cell_type": "code",
   "execution_count": 4,
   "metadata": {},
   "outputs": [
    {
     "name": "stdout",
     "output_type": "stream",
     "text": [
      "  a,b,c,d,message\n",
      "0   1,2,3,4,hello\n",
      "1   5,6,7,8,world\n",
      "2  9,10,11,12,foo\n"
     ]
    }
   ],
   "source": [
    "df=pd.read_csv('E:/LEARN/Summer-Holiday/data/temp.csv',na_values=['NULL'])\n",
    "print(df)"
   ]
  },
  {
   "cell_type": "code",
   "execution_count": 6,
   "metadata": {},
   "outputs": [
    {
     "name": "stdout",
     "output_type": "stream",
     "text": [
      "  a,b,c,d,message\n",
      "0   1,2,3,4,hello\n"
     ]
    }
   ],
   "source": [
    "df=pd.read_csv('E:/LEARN/Summer-Holiday/data/temp.csv',nrows=1) ##读文件\n",
    "#df=to.read_csv('E:/LEARN/Summer-Holiday/data/temp.csv',sep=',')  ##写文件\n",
    "print(df)"
   ]
  },
  {
   "cell_type": "code",
   "execution_count": 7,
   "metadata": {},
   "outputs": [],
   "source": [
    "##读取jason\\web数据 目前没有这个需求，先不学该部分了"
   ]
  },
  {
   "cell_type": "code",
   "execution_count": 11,
   "metadata": {},
   "outputs": [
    {
     "name": "stdout",
     "output_type": "stream",
     "text": [
      "   1  a  w\n",
      "0  2  b  e\n",
      "1  3  c  r\n",
      "2  4  f  g\n",
      "3  5  r  h\n",
      "4  6  d  y\n"
     ]
    }
   ],
   "source": [
    "###读取excel表\n",
    "df=pd.read_excel('E:/LEARN/Summer-Holiday/data/temp1.xlsx','Sheet1')\n",
    "print(df)"
   ]
  },
  {
   "cell_type": "code",
   "execution_count": 7,
   "metadata": {},
   "outputs": [
    {
     "name": "stdout",
     "output_type": "stream",
     "text": [
      "['a,b,c,d,message']\n",
      "['1,2,3,4,hello']\n",
      "['5,6,7,8,world']\n",
      "['9,10,11,12,foo']\n"
     ]
    }
   ],
   "source": [
    "import csv\n",
    "f=open('E:/LEARN/Summer-Holiday/data/temp.csv')\n",
    "reader=csv.reader(f)\n",
    "for line in reader:\n",
    "    print(line)"
   ]
  },
  {
   "cell_type": "code",
   "execution_count": 8,
   "metadata": {},
   "outputs": [],
   "source": [
    "### 读取文件进行特殊符号的分割###\n",
    "##reader=csv.reader(f,delimiter='|')"
   ]
  },
  {
   "cell_type": "code",
   "execution_count": 9,
   "metadata": {},
   "outputs": [],
   "source": [
    "##数据库的交互####\n",
    "import sqlite3"
   ]
  },
  {
   "cell_type": "code",
   "execution_count": 15,
   "metadata": {},
   "outputs": [],
   "source": [
    "query=\"\"\"\n",
    "CREATE TABLE test\n",
    "(a VARCHAR(20),b VARCHAR(20),c REAL);\"\"\"\n",
    "con = sqlite3.connect('mydata.sqlite')\n",
    "\n"
   ]
  },
  {
   "cell_type": "code",
   "execution_count": 19,
   "metadata": {},
   "outputs": [
    {
     "ename": "OperationalError",
     "evalue": "table test already exists",
     "output_type": "error",
     "traceback": [
      "\u001b[1;31m---------------------------------------------------------------------------\u001b[0m",
      "\u001b[1;31mOperationalError\u001b[0m                          Traceback (most recent call last)",
      "\u001b[1;32m<ipython-input-19-c0b070f4032d>\u001b[0m in \u001b[0;36m<module>\u001b[1;34m\u001b[0m\n\u001b[1;32m----> 1\u001b[1;33m \u001b[0mcon\u001b[0m\u001b[1;33m.\u001b[0m\u001b[0mexecute\u001b[0m\u001b[1;33m(\u001b[0m\u001b[0mquery\u001b[0m\u001b[1;33m)\u001b[0m\u001b[1;33m\u001b[0m\u001b[1;33m\u001b[0m\u001b[0m\n\u001b[0m\u001b[0;32m      2\u001b[0m \u001b[0mcon\u001b[0m\u001b[1;33m.\u001b[0m\u001b[0mcommit\u001b[0m\u001b[1;33m(\u001b[0m\u001b[1;33m)\u001b[0m\u001b[1;33m\u001b[0m\u001b[1;33m\u001b[0m\u001b[0m\n\u001b[0;32m      3\u001b[0m data=[('atlanta','georgia',1.25,6),\n\u001b[0;32m      4\u001b[0m      ('atlanta','georgia',1.25,3)]\n\u001b[0;32m      5\u001b[0m \u001b[0mstmt\u001b[0m\u001b[1;33m=\u001b[0m\u001b[1;34m\"INSERT INTO test VALUES(?,?,?,?)\"\u001b[0m\u001b[1;33m\u001b[0m\u001b[1;33m\u001b[0m\u001b[0m\n",
      "\u001b[1;31mOperationalError\u001b[0m: table test already exists"
     ]
    }
   ],
   "source": [
    "con.execute(query)\n",
    "con.commit()\n",
    "data=[('atlanta','georgia',1.25,6),\n",
    "     ('atlanta','georgia',1.25,3)]\n",
    "stmt=\"INSERT INTO test VALUES(?,?,?,?)\"\n",
    "con.executemany(stmt,data)"
   ]
  },
  {
   "cell_type": "code",
   "execution_count": null,
   "metadata": {},
   "outputs": [],
   "source": []
  },
  {
   "cell_type": "code",
   "execution_count": null,
   "metadata": {},
   "outputs": [],
   "source": []
  }
 ],
 "metadata": {
  "kernelspec": {
   "display_name": "Python 3",
   "language": "python",
   "name": "python3"
  },
  "language_info": {
   "codemirror_mode": {
    "name": "ipython",
    "version": 3
   },
   "file_extension": ".py",
   "mimetype": "text/x-python",
   "name": "python",
   "nbconvert_exporter": "python",
   "pygments_lexer": "ipython3",
   "version": "3.6.8"
  }
 },
 "nbformat": 4,
 "nbformat_minor": 2
}
