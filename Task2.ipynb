{
 "cells": [
  {
   "cell_type": "code",
   "execution_count": 19,
   "metadata": {},
   "outputs": [],
   "source": [
    "import pandas as pd\n",
    "import numpy as np"
   ]
  },
  {
   "cell_type": "code",
   "execution_count": 7,
   "metadata": {},
   "outputs": [
    {
     "name": "stdout",
     "output_type": "stream",
     "text": [
      "0    4\n",
      "1   -2\n",
      "2    3\n",
      "3    4\n",
      "dtype: int64\n"
     ]
    }
   ],
   "source": [
    "obj=pd.Series([4,-2,3,4])\n",
    "print(obj)"
   ]
  },
  {
   "cell_type": "code",
   "execution_count": 9,
   "metadata": {},
   "outputs": [
    {
     "data": {
      "text/plain": [
       "array([ 4, -2,  3,  4], dtype=int64)"
      ]
     },
     "execution_count": 9,
     "metadata": {},
     "output_type": "execute_result"
    }
   ],
   "source": [
    "obj.values"
   ]
  },
  {
   "cell_type": "code",
   "execution_count": 11,
   "metadata": {},
   "outputs": [
    {
     "data": {
      "text/plain": [
       "RangeIndex(start=0, stop=4, step=1)"
      ]
     },
     "execution_count": 11,
     "metadata": {},
     "output_type": "execute_result"
    }
   ],
   "source": [
    "obj.index"
   ]
  },
  {
   "cell_type": "code",
   "execution_count": 12,
   "metadata": {},
   "outputs": [
    {
     "name": "stdout",
     "output_type": "stream",
     "text": [
      "1    4\n",
      "2   -2\n",
      "3    3\n",
      "4    4\n",
      "dtype: int64\n"
     ]
    }
   ],
   "source": [
    "obj2=pd.Series([4,-2,3,4],index=['1','2','3','4'])\n",
    "print(obj2)"
   ]
  },
  {
   "cell_type": "code",
   "execution_count": 13,
   "metadata": {},
   "outputs": [
    {
     "data": {
      "text/plain": [
       "Index(['1', '2', '3', '4'], dtype='object')"
      ]
     },
     "execution_count": 13,
     "metadata": {},
     "output_type": "execute_result"
    }
   ],
   "source": [
    "obj2.index"
   ]
  },
  {
   "cell_type": "code",
   "execution_count": 14,
   "metadata": {},
   "outputs": [
    {
     "data": {
      "text/plain": [
       "-2"
      ]
     },
     "execution_count": 14,
     "metadata": {},
     "output_type": "execute_result"
    }
   ],
   "source": [
    "obj2['2']"
   ]
  },
  {
   "cell_type": "code",
   "execution_count": 15,
   "metadata": {},
   "outputs": [
    {
     "data": {
      "text/plain": [
       "2   -2\n",
       "3    3\n",
       "dtype: int64"
      ]
     },
     "execution_count": 15,
     "metadata": {},
     "output_type": "execute_result"
    }
   ],
   "source": [
    "obj2[['2','3']]"
   ]
  },
  {
   "cell_type": "code",
   "execution_count": 16,
   "metadata": {},
   "outputs": [
    {
     "data": {
      "text/plain": [
       "1    4\n",
       "3    3\n",
       "4    4\n",
       "dtype: int64"
      ]
     },
     "execution_count": 16,
     "metadata": {},
     "output_type": "execute_result"
    }
   ],
   "source": [
    "obj2[obj2>0]"
   ]
  },
  {
   "cell_type": "code",
   "execution_count": 17,
   "metadata": {},
   "outputs": [
    {
     "data": {
      "text/plain": [
       "1    8\n",
       "2   -4\n",
       "3    6\n",
       "4    8\n",
       "dtype: int64"
      ]
     },
     "execution_count": 17,
     "metadata": {},
     "output_type": "execute_result"
    }
   ],
   "source": [
    "obj2*2"
   ]
  },
  {
   "cell_type": "code",
   "execution_count": 20,
   "metadata": {},
   "outputs": [
    {
     "data": {
      "text/plain": [
       "1    54.598150\n",
       "2     0.135335\n",
       "3    20.085537\n",
       "4    54.598150\n",
       "dtype: float64"
      ]
     },
     "execution_count": 20,
     "metadata": {},
     "output_type": "execute_result"
    }
   ],
   "source": [
    "np.exp(obj2)"
   ]
  },
  {
   "cell_type": "code",
   "execution_count": 21,
   "metadata": {},
   "outputs": [
    {
     "data": {
      "text/plain": [
       "True"
      ]
     },
     "execution_count": 21,
     "metadata": {},
     "output_type": "execute_result"
    }
   ],
   "source": [
    "'2'in obj2  ###Series可以看成是一个定长的有序字典，因为它是索引值到数据值的一个映射。"
   ]
  },
  {
   "cell_type": "code",
   "execution_count": 22,
   "metadata": {},
   "outputs": [
    {
     "data": {
      "text/plain": [
       "False"
      ]
     },
     "execution_count": 22,
     "metadata": {},
     "output_type": "execute_result"
    }
   ],
   "source": [
    "'b' in obj2"
   ]
  },
  {
   "cell_type": "code",
   "execution_count": 24,
   "metadata": {},
   "outputs": [
    {
     "name": "stdout",
     "output_type": "stream",
     "text": [
      "{'a': 100, 'b': 200, 'c': 300, 'd': 400}\n",
      "a    100\n",
      "b    200\n",
      "c    300\n",
      "d    400\n",
      "dtype: int64\n"
     ]
    }
   ],
   "source": [
    "##字典格式创造Series\n",
    "dt={'a':100,'b':200,'c':300,'d':400}\n",
    "print(dt)\n",
    "data=pd.Series(dt)\n",
    "print(data)"
   ]
  },
  {
   "cell_type": "code",
   "execution_count": 26,
   "metadata": {},
   "outputs": [
    {
     "name": "stdout",
     "output_type": "stream",
     "text": [
      "e      NaN\n",
      "f      NaN\n",
      "a    100.0\n",
      "c    300.0\n",
      "b    200.0\n",
      "dtype: float64\n"
     ]
    }
   ],
   "source": [
    "#按照索引进行排序，如果索引相同，数值会被找出来并放在相应的位置上\n",
    "name=['e','f','a','c','b']  \n",
    "data_=pd.Series(data,index=name)\n",
    "print(data_)"
   ]
  },
  {
   "cell_type": "code",
   "execution_count": 28,
   "metadata": {},
   "outputs": [
    {
     "data": {
      "text/plain": [
       "e    False\n",
       "f    False\n",
       "a     True\n",
       "c     True\n",
       "b     True\n",
       "dtype: bool"
      ]
     },
     "execution_count": 28,
     "metadata": {},
     "output_type": "execute_result"
    }
   ],
   "source": [
    "##pandas中的isnull和notnull函数可以用来检测缺失数据\n",
    "pd.isnull(data_)\n",
    "pd.notnull(data_)\n",
    "#Series中isnull也可以被用来检测缺失数据\n",
    "#Series.isnull()"
   ]
  },
  {
   "cell_type": "code",
   "execution_count": 30,
   "metadata": {},
   "outputs": [
    {
     "name": "stdout",
     "output_type": "stream",
     "text": [
      "a    100\n",
      "b    200\n",
      "c    300\n",
      "d    400\n",
      "dtype: int64\n",
      "e      NaN\n",
      "f      NaN\n",
      "a    100.0\n",
      "c    300.0\n",
      "b    200.0\n",
      "dtype: float64\n",
      "a    200.0\n",
      "b    400.0\n",
      "c    600.0\n",
      "d      NaN\n",
      "e      NaN\n",
      "f      NaN\n",
      "dtype: float64\n"
     ]
    }
   ],
   "source": [
    "##Series可以根据运算的索引标签自动对齐数据\n",
    "print(data)\n",
    "print(data_)\n",
    "print(data+data_)"
   ]
  },
  {
   "cell_type": "code",
   "execution_count": 33,
   "metadata": {},
   "outputs": [
    {
     "data": {
      "text/plain": [
       "order\n",
       "e      NaN\n",
       "f      NaN\n",
       "a    100.0\n",
       "c    300.0\n",
       "b    200.0\n",
       "Name: population, dtype: float64"
      ]
     },
     "execution_count": 33,
     "metadata": {},
     "output_type": "execute_result"
    }
   ],
   "source": [
    "data_.name='population'\n",
    "data_.index.name='order'\n",
    "data_"
   ]
  },
  {
   "cell_type": "code",
   "execution_count": 34,
   "metadata": {},
   "outputs": [
    {
     "data": {
      "text/plain": [
       "1      NaN\n",
       "2      NaN\n",
       "3    100.0\n",
       "4    300.0\n",
       "5    200.0\n",
       "Name: population, dtype: float64"
      ]
     },
     "execution_count": 34,
     "metadata": {},
     "output_type": "execute_result"
    }
   ],
   "source": [
    "##Series直接进行index的修改\n",
    "data_.index=['1','2','3','4','5']\n",
    "data_"
   ]
  },
  {
   "cell_type": "code",
   "execution_count": 40,
   "metadata": {},
   "outputs": [
    {
     "name": "stdout",
     "output_type": "stream",
     "text": [
      "{'provinces': ['Sichuan', 'Shandong', 'Beijing', 'Shenyang'], 'population': [10000, 12000, 13000, 14000], 'gdp': [23400, 32455, 35466, 23756]}\n",
      "  provinces  population    gdp\n",
      "1   Sichuan       10000  23400\n",
      "2  Shandong       12000  32455\n",
      "3   Beijing       13000  35466\n",
      "4  Shenyang       14000  23756\n",
      "  provinces  population    gdp\n",
      "1   Sichuan       10000  23400\n",
      "2  Shandong       12000  32455\n"
     ]
    }
   ],
   "source": [
    "##DataFrame\n",
    "#对于字典格式数据转为DF,另外注意columns和index名字变化时的语句\n",
    "#如果制定了列序列，则dataframe的列会按照指定顺序进行排列，如果传入的列在数据中找不到，就会在结果中产生缺失值\n",
    "data0={'provinces':['Sichuan','Shandong','Beijing','Shenyang'],'population':[10000,12000,13000,14000],\n",
    "      'gdp':[23400,32455,35466,23756]}\n",
    "print(data0)\n",
    "data1=pd.DataFrame(data0,index=['1','2','3','4'])\n",
    "print(data1)\n",
    "print(data1.head(2))"
   ]
  },
  {
   "cell_type": "code",
   "execution_count": 42,
   "metadata": {},
   "outputs": [
    {
     "data": {
      "text/plain": [
       "Index(['provinces', 'population', 'gdp'], dtype='object')"
      ]
     },
     "execution_count": 42,
     "metadata": {},
     "output_type": "execute_result"
    }
   ],
   "source": [
    "data1.columns"
   ]
  },
  {
   "cell_type": "code",
   "execution_count": 52,
   "metadata": {},
   "outputs": [
    {
     "name": "stdout",
     "output_type": "stream",
     "text": [
      "1     Sichuan\n",
      "2    Shandong\n",
      "3     Beijing\n",
      "4    Shenyang\n",
      "Name: provinces, dtype: object\n",
      "1     Sichuan\n",
      "2    Shandong\n",
      "3     Beijing\n",
      "4    Shenyang\n",
      "Name: provinces, dtype: object\n"
     ]
    }
   ],
   "source": [
    "##dataframe取特定的列\n",
    "print(data1['provinces'])\n",
    "print(data1.provinces)"
   ]
  },
  {
   "cell_type": "code",
   "execution_count": 50,
   "metadata": {},
   "outputs": [
    {
     "data": {
      "text/html": [
       "<div>\n",
       "<style scoped>\n",
       "    .dataframe tbody tr th:only-of-type {\n",
       "        vertical-align: middle;\n",
       "    }\n",
       "\n",
       "    .dataframe tbody tr th {\n",
       "        vertical-align: top;\n",
       "    }\n",
       "\n",
       "    .dataframe thead th {\n",
       "        text-align: right;\n",
       "    }\n",
       "</style>\n",
       "<table border=\"1\" class=\"dataframe\">\n",
       "  <thead>\n",
       "    <tr style=\"text-align: right;\">\n",
       "      <th></th>\n",
       "      <th>provinces</th>\n",
       "      <th>population</th>\n",
       "      <th>gdp</th>\n",
       "    </tr>\n",
       "  </thead>\n",
       "  <tbody>\n",
       "    <tr>\n",
       "      <th>2</th>\n",
       "      <td>Shandong</td>\n",
       "      <td>12000</td>\n",
       "      <td>32455</td>\n",
       "    </tr>\n",
       "  </tbody>\n",
       "</table>\n",
       "</div>"
      ],
      "text/plain": [
       "  provinces  population    gdp\n",
       "2  Shandong       12000  32455"
      ]
     },
     "execution_count": 50,
     "metadata": {},
     "output_type": "execute_result"
    }
   ],
   "source": [
    "##dataframe取特定的行\n",
    "data1[:1]\n",
    "data1[1:2]"
   ]
  },
  {
   "cell_type": "code",
   "execution_count": 70,
   "metadata": {},
   "outputs": [
    {
     "name": "stdout",
     "output_type": "stream",
     "text": [
      "provinces     Shandong\n",
      "population       12000\n",
      "gdp              32455\n",
      "noname            -1.2\n",
      "Name: 2, dtype: object\n",
      "  provinces  population    gdp  noname\n",
      "1   Sichuan       10000  23400     NaN\n",
      "2  Shandong       12000  32455    -1.2\n",
      "  provinces  population    gdp  noname  density\n",
      "1   Sichuan       10000  23400     0.0       16\n",
      "2  Shandong       12000  32455     1.0       16\n",
      "3   Beijing       13000  35466     2.0       16\n",
      "4  Shenyang       14000  23756     3.0       16\n",
      "  provinces  population    gdp  noname  density\n",
      "1   Sichuan       10000  23400     NaN       16\n",
      "2  Shandong       12000  32455    -1.2       16\n",
      "3   Beijing       13000  35466    -1.3       16\n",
      "4  Shenyang       14000  23756     NaN       16\n",
      "  provinces  population    gdp  noname\n",
      "1   Sichuan       10000  23400     NaN\n",
      "2  Shandong       12000  32455    -1.2\n",
      "3   Beijing       13000  35466    -1.3\n",
      "4  Shenyang       14000  23756     NaN\n",
      "  provinces  population    gdp  noname\n",
      "2  Shandong       12000  32455    -1.2\n",
      "3   Beijing       13000  35466    -1.3\n"
     ]
    }
   ],
   "source": [
    "##DataFrame的行也可以通过位置或名称的方式进行获取(loc,iloc)\n",
    "#loc是行标签索引行数据，iloc是行号索引行数据\n",
    "print(data1.loc['2'])\n",
    "print(data1.iloc[0:2])\n",
    "#添加新列\n",
    "data1['density']=16\n",
    "data1['noname']=np.arange(4.)\n",
    "print(data1)\n",
    "##精确匹配。将列表或数组赋值给某个烈时，其长度必须和DataFrame的长度相匹配。\n",
    "val=pd.Series([-1.2,-1.3],index=['2','3'])\n",
    "data1['noname']=val\n",
    "print(data1)\n",
    "##删除某列，删除含空值的行\n",
    "del data1['density']\n",
    "print(data1)\n",
    "data=data1.dropna(subset=['noname'])\n",
    "print(data)"
   ]
  },
  {
   "cell_type": "code",
   "execution_count": 71,
   "metadata": {},
   "outputs": [
    {
     "data": {
      "text/html": [
       "<div>\n",
       "<style scoped>\n",
       "    .dataframe tbody tr th:only-of-type {\n",
       "        vertical-align: middle;\n",
       "    }\n",
       "\n",
       "    .dataframe tbody tr th {\n",
       "        vertical-align: top;\n",
       "    }\n",
       "\n",
       "    .dataframe thead th {\n",
       "        text-align: right;\n",
       "    }\n",
       "</style>\n",
       "<table border=\"1\" class=\"dataframe\">\n",
       "  <thead>\n",
       "    <tr style=\"text-align: right;\">\n",
       "      <th></th>\n",
       "      <th>1</th>\n",
       "      <th>2</th>\n",
       "      <th>3</th>\n",
       "      <th>4</th>\n",
       "    </tr>\n",
       "  </thead>\n",
       "  <tbody>\n",
       "    <tr>\n",
       "      <th>provinces</th>\n",
       "      <td>Sichuan</td>\n",
       "      <td>Shandong</td>\n",
       "      <td>Beijing</td>\n",
       "      <td>Shenyang</td>\n",
       "    </tr>\n",
       "    <tr>\n",
       "      <th>population</th>\n",
       "      <td>10000</td>\n",
       "      <td>12000</td>\n",
       "      <td>13000</td>\n",
       "      <td>14000</td>\n",
       "    </tr>\n",
       "    <tr>\n",
       "      <th>gdp</th>\n",
       "      <td>23400</td>\n",
       "      <td>32455</td>\n",
       "      <td>35466</td>\n",
       "      <td>23756</td>\n",
       "    </tr>\n",
       "    <tr>\n",
       "      <th>noname</th>\n",
       "      <td>NaN</td>\n",
       "      <td>-1.2</td>\n",
       "      <td>-1.3</td>\n",
       "      <td>NaN</td>\n",
       "    </tr>\n",
       "  </tbody>\n",
       "</table>\n",
       "</div>"
      ],
      "text/plain": [
       "                  1         2        3         4\n",
       "provinces   Sichuan  Shandong  Beijing  Shenyang\n",
       "population    10000     12000    13000     14000\n",
       "gdp           23400     32455    35466     23756\n",
       "noname          NaN      -1.2     -1.3       NaN"
      ]
     },
     "execution_count": 71,
     "metadata": {},
     "output_type": "execute_result"
    }
   ],
   "source": [
    "#DataFrame转置\n",
    "data1.T"
   ]
  },
  {
   "cell_type": "code",
   "execution_count": 72,
   "metadata": {},
   "outputs": [
    {
     "data": {
      "text/plain": [
       "array([['Sichuan', 10000, 23400, nan],\n",
       "       ['Shandong', 12000, 32455, -1.2],\n",
       "       ['Beijing', 13000, 35466, -1.3],\n",
       "       ['Shenyang', 14000, 23756, nan]], dtype=object)"
      ]
     },
     "execution_count": 72,
     "metadata": {},
     "output_type": "execute_result"
    }
   ],
   "source": [
    "data1.values"
   ]
  },
  {
   "cell_type": "code",
   "execution_count": 73,
   "metadata": {},
   "outputs": [
    {
     "data": {
      "text/html": [
       "<div>\n",
       "<style scoped>\n",
       "    .dataframe tbody tr th:only-of-type {\n",
       "        vertical-align: middle;\n",
       "    }\n",
       "\n",
       "    .dataframe tbody tr th {\n",
       "        vertical-align: top;\n",
       "    }\n",
       "\n",
       "    .dataframe thead th {\n",
       "        text-align: right;\n",
       "    }\n",
       "</style>\n",
       "<table border=\"1\" class=\"dataframe\">\n",
       "  <thead>\n",
       "    <tr style=\"text-align: right;\">\n",
       "      <th></th>\n",
       "      <th>provinces</th>\n",
       "      <th>population</th>\n",
       "      <th>gdp</th>\n",
       "      <th>noname</th>\n",
       "    </tr>\n",
       "  </thead>\n",
       "  <tbody>\n",
       "    <tr>\n",
       "      <th>1</th>\n",
       "      <td>Sichuan</td>\n",
       "      <td>10000</td>\n",
       "      <td>23400</td>\n",
       "      <td>-1.25</td>\n",
       "    </tr>\n",
       "    <tr>\n",
       "      <th>2</th>\n",
       "      <td>Shandong</td>\n",
       "      <td>12000</td>\n",
       "      <td>32455</td>\n",
       "      <td>-1.20</td>\n",
       "    </tr>\n",
       "    <tr>\n",
       "      <th>3</th>\n",
       "      <td>Beijing</td>\n",
       "      <td>13000</td>\n",
       "      <td>35466</td>\n",
       "      <td>-1.30</td>\n",
       "    </tr>\n",
       "    <tr>\n",
       "      <th>4</th>\n",
       "      <td>Shenyang</td>\n",
       "      <td>14000</td>\n",
       "      <td>23756</td>\n",
       "      <td>-1.25</td>\n",
       "    </tr>\n",
       "  </tbody>\n",
       "</table>\n",
       "</div>"
      ],
      "text/plain": [
       "  provinces  population    gdp  noname\n",
       "1   Sichuan       10000  23400   -1.25\n",
       "2  Shandong       12000  32455   -1.20\n",
       "3   Beijing       13000  35466   -1.30\n",
       "4  Shenyang       14000  23756   -1.25"
      ]
     },
     "execution_count": 73,
     "metadata": {},
     "output_type": "execute_result"
    }
   ],
   "source": [
    "##缺失值填补\n",
    "data1.fillna(data1.mean())"
   ]
  },
  {
   "cell_type": "code",
   "execution_count": 75,
   "metadata": {},
   "outputs": [
    {
     "data": {
      "text/plain": [
       "Index(['foo', 'foo', 'bar', 'bar'], dtype='object')"
      ]
     },
     "execution_count": 75,
     "metadata": {},
     "output_type": "execute_result"
    }
   ],
   "source": [
    "dup_labels=pd.Index(['foo','foo','bar','bar'])\n",
    "dup_labels"
   ]
  },
  {
   "cell_type": "code",
   "execution_count": 78,
   "metadata": {},
   "outputs": [
    {
     "name": "stdout",
     "output_type": "stream",
     "text": [
      "c    2\n",
      "d    4\n",
      "f    2\n",
      "a    3\n",
      "dtype: int64\n",
      "a    3\n",
      "c    2\n",
      "d    4\n",
      "f    2\n",
      "dtype: int64\n"
     ]
    }
   ],
   "source": [
    "##reindex:根据新的索引进行重排，如果某个索引值当前不存在，就引入缺失值\n",
    "data=pd.Series([2,4,2,3],index=['c','d','f','a'])\n",
    "data1=data.reindex(['a','c','d','f'])\n",
    "print(data)\n",
    "print(data1)"
   ]
  },
  {
   "cell_type": "code",
   "execution_count": 82,
   "metadata": {},
   "outputs": [
    {
     "name": "stdout",
     "output_type": "stream",
     "text": [
      "0      blue\n",
      "2    yellow\n",
      "4       red\n",
      "dtype: object\n",
      "0      blue\n",
      "1      blue\n",
      "2    yellow\n",
      "3    yellow\n",
      "4       red\n",
      "5       red\n",
      "dtype: object\n"
     ]
    }
   ],
   "source": [
    "##对于时间序列这种的有序序列，重新索引时可能需要做一些插值处理。method选型即可达到此目的，例如：使用ffill可以实现前向值填充。\n",
    "data=pd.Series(['blue','yellow','red'],index=[0,2,4])\n",
    "print(data)\n",
    "data0=data.reindex(range(6),method='ffill')\n",
    "print(data0)"
   ]
  },
  {
   "cell_type": "code",
   "execution_count": 105,
   "metadata": {},
   "outputs": [
    {
     "data": {
      "text/html": [
       "<div>\n",
       "<style scoped>\n",
       "    .dataframe tbody tr th:only-of-type {\n",
       "        vertical-align: middle;\n",
       "    }\n",
       "\n",
       "    .dataframe tbody tr th {\n",
       "        vertical-align: top;\n",
       "    }\n",
       "\n",
       "    .dataframe thead th {\n",
       "        text-align: right;\n",
       "    }\n",
       "</style>\n",
       "<table border=\"1\" class=\"dataframe\">\n",
       "  <thead>\n",
       "    <tr style=\"text-align: right;\">\n",
       "      <th></th>\n",
       "      <th>2</th>\n",
       "      <th>3</th>\n",
       "    </tr>\n",
       "  </thead>\n",
       "  <tbody>\n",
       "    <tr>\n",
       "      <th>a</th>\n",
       "      <td>1</td>\n",
       "      <td>2</td>\n",
       "    </tr>\n",
       "    <tr>\n",
       "      <th>b</th>\n",
       "      <td>4</td>\n",
       "      <td>5</td>\n",
       "    </tr>\n",
       "    <tr>\n",
       "      <th>c</th>\n",
       "      <td>7</td>\n",
       "      <td>8</td>\n",
       "    </tr>\n",
       "    <tr>\n",
       "      <th>d</th>\n",
       "      <td>10</td>\n",
       "      <td>11</td>\n",
       "    </tr>\n",
       "    <tr>\n",
       "      <th>e</th>\n",
       "      <td>13</td>\n",
       "      <td>14</td>\n",
       "    </tr>\n",
       "  </tbody>\n",
       "</table>\n",
       "</div>"
      ],
      "text/plain": [
       "    2   3\n",
       "a   1   2\n",
       "b   4   5\n",
       "c   7   8\n",
       "d  10  11\n",
       "e  13  14"
      ]
     },
     "execution_count": 105,
     "metadata": {},
     "output_type": "execute_result"
    }
   ],
   "source": [
    "##丢弃指定轴上的项\n",
    "obj=pd.DataFrame(np.arange(15).reshape((5,3)),index=['a','b','c','d','e'],columns=['1','2','3'])\n",
    "obj\n",
    "new_obj=obj.drop('c',axis=0)###删除行\n",
    "new_obj=obj.drop('1',axis=1)###删除列\n",
    "new_obj"
   ]
  },
  {
   "cell_type": "code",
   "execution_count": 108,
   "metadata": {},
   "outputs": [
    {
     "name": "stdout",
     "output_type": "stream",
     "text": [
      "  provinces  population    gdp\n",
      "1   Sichuan       10000  23400\n",
      "2  Shandong       12000  32455\n",
      "3   Beijing       13000  35466\n",
      "4  Shenyang       14000  23756\n",
      "  provinces  population    gdp\n",
      "3   Beijing       13000  35466\n",
      "4  Shenyang       14000  23756\n",
      "1    10000\n",
      "2    12000\n",
      "3    13000\n",
      "4    14000\n",
      "Name: population, dtype: int64\n"
     ]
    }
   ],
   "source": [
    "##过滤和筛选\n",
    "data0={'provinces':['Sichuan','Shandong','Beijing','Shenyang'],'population':[10000,12000,13000,14000],\n",
    "      'gdp':[23400,32455,35466,23756]}\n",
    "data1=pd.DataFrame(data0,index=['1','2','3','4'])\n",
    "print(data1)\n",
    "print(data1[data1['population']>12000])\n",
    "print(data1['population'])"
   ]
  },
  {
   "cell_type": "code",
   "execution_count": 112,
   "metadata": {},
   "outputs": [
    {
     "data": {
      "text/html": [
       "<div>\n",
       "<style scoped>\n",
       "    .dataframe tbody tr th:only-of-type {\n",
       "        vertical-align: middle;\n",
       "    }\n",
       "\n",
       "    .dataframe tbody tr th {\n",
       "        vertical-align: top;\n",
       "    }\n",
       "\n",
       "    .dataframe thead th {\n",
       "        text-align: right;\n",
       "    }\n",
       "</style>\n",
       "<table border=\"1\" class=\"dataframe\">\n",
       "  <thead>\n",
       "    <tr style=\"text-align: right;\">\n",
       "      <th></th>\n",
       "      <th>population</th>\n",
       "      <th>provinces</th>\n",
       "    </tr>\n",
       "  </thead>\n",
       "  <tbody>\n",
       "    <tr>\n",
       "      <th>2</th>\n",
       "      <td>12000</td>\n",
       "      <td>Shandong</td>\n",
       "    </tr>\n",
       "    <tr>\n",
       "      <th>3</th>\n",
       "      <td>13000</td>\n",
       "      <td>Beijing</td>\n",
       "    </tr>\n",
       "  </tbody>\n",
       "</table>\n",
       "</div>"
      ],
      "text/plain": [
       "   population provinces\n",
       "2       12000  Shandong\n",
       "3       13000   Beijing"
      ]
     },
     "execution_count": 112,
     "metadata": {},
     "output_type": "execute_result"
    }
   ],
   "source": [
    "###用loc和iloc选取（见前面）\n",
    "data=data1.iloc[[1,2],[1,0]]\n",
    "data"
   ]
  },
  {
   "cell_type": "code",
   "execution_count": 113,
   "metadata": {},
   "outputs": [
    {
     "data": {
      "text/html": [
       "<div>\n",
       "<style scoped>\n",
       "    .dataframe tbody tr th:only-of-type {\n",
       "        vertical-align: middle;\n",
       "    }\n",
       "\n",
       "    .dataframe tbody tr th {\n",
       "        vertical-align: top;\n",
       "    }\n",
       "\n",
       "    .dataframe thead th {\n",
       "        text-align: right;\n",
       "    }\n",
       "</style>\n",
       "<table border=\"1\" class=\"dataframe\">\n",
       "  <thead>\n",
       "    <tr style=\"text-align: right;\">\n",
       "      <th></th>\n",
       "      <th>A</th>\n",
       "      <th>B</th>\n",
       "    </tr>\n",
       "  </thead>\n",
       "  <tbody>\n",
       "    <tr>\n",
       "      <th>0</th>\n",
       "      <td>NaN</td>\n",
       "      <td>NaN</td>\n",
       "    </tr>\n",
       "    <tr>\n",
       "      <th>1</th>\n",
       "      <td>NaN</td>\n",
       "      <td>NaN</td>\n",
       "    </tr>\n",
       "  </tbody>\n",
       "</table>\n",
       "</div>"
      ],
      "text/plain": [
       "    A   B\n",
       "0 NaN NaN\n",
       "1 NaN NaN"
      ]
     },
     "execution_count": 113,
     "metadata": {},
     "output_type": "execute_result"
    }
   ],
   "source": [
    "##算术运算和数据对齐\n",
    "#如果DataFrame对象相加，没有共用的列或行标签，结果都会为控\n",
    "df1=pd.DataFrame({'A':[1,2]})\n",
    "df2=pd.DataFrame({'B':[3,4]})\n",
    "df1+df2"
   ]
  },
  {
   "cell_type": "code",
   "execution_count": 119,
   "metadata": {},
   "outputs": [
    {
     "data": {
      "text/html": [
       "<div>\n",
       "<style scoped>\n",
       "    .dataframe tbody tr th:only-of-type {\n",
       "        vertical-align: middle;\n",
       "    }\n",
       "\n",
       "    .dataframe tbody tr th {\n",
       "        vertical-align: top;\n",
       "    }\n",
       "\n",
       "    .dataframe thead th {\n",
       "        text-align: right;\n",
       "    }\n",
       "</style>\n",
       "<table border=\"1\" class=\"dataframe\">\n",
       "  <thead>\n",
       "    <tr style=\"text-align: right;\">\n",
       "      <th></th>\n",
       "      <th>a</th>\n",
       "      <th>b</th>\n",
       "      <th>c</th>\n",
       "      <th>d</th>\n",
       "    </tr>\n",
       "  </thead>\n",
       "  <tbody>\n",
       "    <tr>\n",
       "      <th>0</th>\n",
       "      <td>inf</td>\n",
       "      <td>1.000000</td>\n",
       "      <td>0.500000</td>\n",
       "      <td>0.333333</td>\n",
       "    </tr>\n",
       "    <tr>\n",
       "      <th>1</th>\n",
       "      <td>0.250</td>\n",
       "      <td>0.200000</td>\n",
       "      <td>0.166667</td>\n",
       "      <td>0.142857</td>\n",
       "    </tr>\n",
       "    <tr>\n",
       "      <th>2</th>\n",
       "      <td>0.125</td>\n",
       "      <td>0.111111</td>\n",
       "      <td>0.100000</td>\n",
       "      <td>0.090909</td>\n",
       "    </tr>\n",
       "  </tbody>\n",
       "</table>\n",
       "</div>"
      ],
      "text/plain": [
       "       a         b         c         d\n",
       "0    inf  1.000000  0.500000  0.333333\n",
       "1  0.250  0.200000  0.166667  0.142857\n",
       "2  0.125  0.111111  0.100000  0.090909"
      ]
     },
     "execution_count": 119,
     "metadata": {},
     "output_type": "execute_result"
    }
   ],
   "source": [
    "###在算术方法中填充值\n",
    "df1=pd.DataFrame(np.arange(12.).reshape((3,4)),columns=list('abcd'))\n",
    "df2=pd.DataFrame(np.arange(20.).reshape((4,5)),columns=list('abcde'))\n",
    "df2.loc[1,'b']=np.nan\n",
    "df1+df2\n",
    "df1.add(df2,fill_value=0)  ####使用df1的add方法，传入df2以及一个fill_value参数，在补充的地儿不会显示nan\n",
    "1/df1\n",
    "df1.rdiv(1)  ###div,rdiv用于除法的方法"
   ]
  },
  {
   "cell_type": "code",
   "execution_count": 123,
   "metadata": {},
   "outputs": [
    {
     "name": "stdout",
     "output_type": "stream",
     "text": [
      "              b         c         d\n",
      "Utah  -0.050112 -0.261201  0.079586\n",
      "ohio  -0.367101 -0.434821 -0.710195\n",
      "Texas  1.841261 -0.551973  0.793394\n",
      "DS     0.066988 -0.309952  0.237418\n",
      "              b         c         d\n",
      "Utah   0.050112  0.261201  0.079586\n",
      "ohio   0.367101  0.434821  0.710195\n",
      "Texas  1.841261  0.551973  0.793394\n",
      "DS     0.066988  0.309952  0.237418\n"
     ]
    },
    {
     "data": {
      "text/plain": [
       "b    2.208362\n",
       "c    0.290772\n",
       "d    1.503589\n",
       "dtype: float64"
      ]
     },
     "execution_count": 123,
     "metadata": {},
     "output_type": "execute_result"
    }
   ],
   "source": [
    "####函数应用和映射#####\n",
    "data=pd.DataFrame(np.random.randn(4,3),columns=list('bcd'),index=['Utah','ohio','Texas','DS'])\n",
    "print(data)\n",
    "print(abs(data))\n",
    "f=lambda x: x.max()-x.min()  ##函数\n",
    "data.apply(f)\n"
   ]
  },
  {
   "cell_type": "code",
   "execution_count": 125,
   "metadata": {},
   "outputs": [
    {
     "data": {
      "text/plain": [
       "b    0\n",
       "c    1\n",
       "d    2\n",
       "a    3\n",
       "dtype: int64"
      ]
     },
     "execution_count": 125,
     "metadata": {},
     "output_type": "execute_result"
    }
   ],
   "source": [
    "###排序和排名\n",
    "obj=pd.Series(range(4),index=list('bcda'))\n",
    "obj.sort_index()##axis=0 行; axis=1 列; ascending =False 降序排列.\n",
    "obj.sort_values() ###by='列名'可实现对特定行进行排序; by=['','']可实现对多列进行同时排序"
   ]
  },
  {
   "cell_type": "code",
   "execution_count": 134,
   "metadata": {},
   "outputs": [
    {
     "name": "stdout",
     "output_type": "stream",
     "text": [
      "              b         c         d\n",
      "Utah  -0.050112 -0.261201  0.079586\n",
      "ohio  -0.367101 -0.434821 -0.710195\n",
      "Texas  1.841261 -0.551973  0.793394\n",
      "DS     0.066988 -0.309952  0.237418\n",
      "b    1.491037\n",
      "c   -1.557947\n",
      "d    0.400203\n",
      "dtype: float64\n",
      "Utah    -0.231727\n",
      "ohio    -1.512117\n",
      "Texas    2.082682\n",
      "DS      -0.005546\n",
      "dtype: float64\n",
      "b    0.372759\n",
      "c   -0.389487\n",
      "d    0.100051\n",
      "dtype: float64\n",
      "Utah     d\n",
      "ohio     b\n",
      "Texas    b\n",
      "DS       d\n",
      "dtype: object\n",
      "              b         c         d\n",
      "count  4.000000  4.000000  4.000000\n",
      "mean   0.372759 -0.389487  0.100051\n",
      "std    0.996027  0.130690  0.620890\n",
      "min   -0.367101 -0.551973 -0.710195\n",
      "25%   -0.129359 -0.464109 -0.117859\n",
      "50%    0.008438 -0.372386  0.158502\n",
      "75%    0.510556 -0.297764  0.376412\n",
      "max    1.841261 -0.261201  0.793394\n"
     ]
    }
   ],
   "source": [
    "print(data)\n",
    "print(data.sum())\n",
    "print(data.sum(axis=1))\n",
    "print(data.mean())\n",
    "print(data.idxmax(axis=1))\n",
    "print(data.describe())"
   ]
  },
  {
   "cell_type": "code",
   "execution_count": 135,
   "metadata": {},
   "outputs": [
    {
     "data": {
      "text/plain": [
       "b    0.992069\n",
       "c    0.017080\n",
       "d    0.385504\n",
       "dtype: float64"
      ]
     },
     "execution_count": 135,
     "metadata": {},
     "output_type": "execute_result"
    }
   ],
   "source": [
    "###相关系数与协方差\n",
    "data.corr() #***相关系数\n",
    "data.var() #***协方差"
   ]
  },
  {
   "cell_type": "code",
   "execution_count": 140,
   "metadata": {},
   "outputs": [
    {
     "name": "stdout",
     "output_type": "stream",
     "text": [
      "['2' '3' '1']\n",
      "2    3\n",
      "1    1\n",
      "3    1\n",
      "dtype: int64\n"
     ]
    }
   ],
   "source": [
    "####唯一值\n",
    "data2=pd.Series(['2','2','3','1','2'])\n",
    "unique=data2.unique()\n",
    "print(unique)\n",
    "print(data2.value_counts())   ###计数\n"
   ]
  },
  {
   "cell_type": "code",
   "execution_count": 143,
   "metadata": {},
   "outputs": [
    {
     "name": "stdout",
     "output_type": "stream",
     "text": [
      "   Que1  Que2  Que3\n",
      "0     1     2     3\n",
      "1     2     4     6\n",
      "2     3     1     4\n",
      "3     4     6     8\n",
      "   Que1  Que2  Que3\n",
      "1   1.0   1.0   0.0\n",
      "2   1.0   1.0   0.0\n",
      "3   1.0   0.0   1.0\n",
      "4   1.0   1.0   1.0\n",
      "6   0.0   1.0   1.0\n",
      "8   0.0   0.0   1.0\n"
     ]
    }
   ],
   "source": [
    "###综合计数\n",
    "\n",
    "data=pd.DataFrame({'Que1':[1,2,3,4],\n",
    "                  'Que2':[2,4,1,6],\n",
    "                  'Que3':[3,6,4,8]})\n",
    "print(data)\n",
    "result=data.apply(pd.value_counts).fillna(0)\n",
    "print(result)"
   ]
  },
  {
   "cell_type": "code",
   "execution_count": null,
   "metadata": {},
   "outputs": [],
   "source": []
  }
 ],
 "metadata": {
  "kernelspec": {
   "display_name": "Python 3",
   "language": "python",
   "name": "python3"
  },
  "language_info": {
   "codemirror_mode": {
    "name": "ipython",
    "version": 3
   },
   "file_extension": ".py",
   "mimetype": "text/x-python",
   "name": "python",
   "nbconvert_exporter": "python",
   "pygments_lexer": "ipython3",
   "version": "3.6.8"
  }
 },
 "nbformat": 4,
 "nbformat_minor": 2
}
